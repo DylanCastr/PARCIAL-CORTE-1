{
  "cells": [
    {
      "cell_type": "code",
      "execution_count": null,
      "metadata": {
        "colab": {
          "base_uri": "https://localhost:8080/"
        },
        "id": "7dM3gIxiJybx",
        "outputId": "cf1ef445-04d5-455b-aabc-e975586a121e"
      },
      "outputs": [
        {
          "data": {
            "text/plain": [
              "2"
            ]
          },
          "execution_count": 1,
          "metadata": {},
          "output_type": "execute_result"
        }
      ],
      "source": [
        "import math\n",
        "import random\n",
        "1+1"
      ]
    },
    {
      "cell_type": "code",
      "execution_count": null,
      "metadata": {
        "colab": {
          "base_uri": "https://localhost:8080/"
        },
        "id": "0IlGvBnd-dpd",
        "outputId": "f67bfcec-8d87-4b57-9cf9-818b23441b52"
      },
      "outputs": [
        {
          "output_type": "stream",
          "name": "stdout",
          "text": [
            "URL encriptada: ivwqu=01jjvkvd1dqp0oduv}btdug645\n",
            "Introduce la clave para desencriptar el mensaje: 2000\n",
            "URL desencriptada: https://github.com/mattzarate333\n"
          ]
        }
      ],
      "source": [
        "# Paso 1: Encontrar el número entero de 4 digitos que sea la fecha en la que nació el profesor de está materia.\n",
        "# Paso 2: Se debe comentar el paso a paso de cómo se hizo para decifrar el código. En una nueva Linea de Código haciendo click en \"+ Código\"\n",
        "# Paso 3: Una vez solucionen y terminen la encriptación subir al Github el archivo con la Solución.\n",
        "# Paso 4: Poner la solucion en la pregunta en Moodle y continuar con el parcial o terminarlo.\n",
        "# Paso 5: Borrar en la linea siguiente el simbolo \"#\", y escribir al lado del \"=\" el número encontrado de 4 digitos. (Nota una forma de hacerlo es utilizando el ciclo for o el ciclo while)\n",
        " # Ejemplo de edad, cámbiala por la edad del profesor.\n",
        "edad_profesor = 2000\n",
        "\n",
        "def encriptar_url(url):\n",
        "    # Función de encriptación\n",
        "    encriptada = \"\"\n",
        "    for i in range(len(url)):\n",
        "        # Primer condicional\n",
        "        encriptada += chr(ord(url[i]) + (i % 3) + 1)\n",
        "\n",
        "    # URL encriptada para ser desencriptada después\n",
        "    print(f\"URL encriptada: {encriptada}\")\n",
        "    return encriptada\n",
        "\n",
        "def desencriptar_url(url_encriptada, clave):\n",
        "    # Verificar si la clave es igual a la edad del profesor\n",
        "    if clave != edad_profesor:\n",
        "        print(\"Clave incorrecta. No se puede desencriptar.\")\n",
        "        return None\n",
        "\n",
        "    # Si la clave es correcta, se desencripta\n",
        "    desencriptada = \"\"\n",
        "    for i in range(len(url_encriptada)):\n",
        "        # La operación inversa a la realizada en la encriptación\n",
        "        desencriptada += chr(ord(url_encriptada[i]) - (i % 3) - 1)\n",
        "\n",
        "    return desencriptada\n",
        "\n",
        "# URL\n",
        "url_original = \"https://github.com/mattzarate333\"\n",
        "url_encriptada = encriptar_url(url_original)\n",
        "\n",
        "# Para desencriptar el mensaje, el usuario debe introducir el año del profesor como clave:\n",
        "clave = int(input(\"Introduce la clave para desencriptar el mensaje: \"))\n",
        "url_desencriptada = desencriptar_url(url_encriptada, clave)\n",
        "\n",
        "if url_desencriptada:\n",
        "    print(f\"URL desencriptada: {url_desencriptada}\")\n",
        "\n",
        "\n",
        "\n",
        "# Nota: Para Obtener 50 en el parcial las preguntas de Moodel deben estar perfectas.\n",
        "# Y el código debe estar en el Git-Hub de cada estudiante de forma individual.\n",
        "# Decifrar el código antes de las 5:00pm.\n",
        "# Y dejar comentado en una nueva linea de código cómo encontró cada uno la solución.\n"
      ]
    },
    {
      "cell_type": "code",
      "source": [
        "def encriptar_url(url):\n",
        "    \"\"\"Función para encriptar una URL.\"\"\"\n",
        "    encriptada = \"\"\n",
        "    for i in range(len(url)):\n",
        "        encriptada += chr(ord(url[i]) + (i % 3) + 1)\n",
        "    return encriptada\n",
        "\n",
        "def desencriptar_url(url_encriptada, clave):\n",
        "    \"\"\"Función para desencriptar una URL usando una clave.\"\"\"\n",
        "    desencriptada = \"\"\n",
        "    for i in range(len(url_encriptada)):\n",
        "        desencriptada += chr(ord(url_encriptada[i]) - (i % 3) - 1)\n",
        "    return desencriptada\n",
        "\n",
        "def encontrar_edad(url_original, url_encriptada, rango_anios):\n",
        "    \"\"\"Función para encontrar la edad del profesor probando diferentes años.\"\"\"\n",
        "    for posible_anio in rango_anios:\n",
        "        url_desencriptada = desencriptar_url(url_encriptada, posible_anio)\n",
        "        if url_desencriptada == url_original:\n",
        "            edad = 2024 - posible_anio  # Calcula la edad basado en el año actual\n",
        "            return posible_anio, edad\n",
        "    return None, None\n",
        "\n",
        "# URL original y encriptada (como ejemplo)\n",
        "url_original = \"https://github.com/mattzarate333\"\n",
        "url_encriptada = encriptar_url(url_original)\n",
        "\n",
        "# Define el rango de años para probar (puedes ajustar el rango según lo necesites)\n",
        "rango_anios = range(1950, 2000)\n",
        "\n",
        "# Encuentra la edad del profesor\n",
        "anio_encontrado, edad_encontrada = encontrar_edad(url_original, url_encriptada, rango_anios)\n",
        "\n",
        "if anio_encontrado:\n",
        "    print(f\"El año de nacimiento del profesor es: {anio_encontrado}\")\n",
        "    print(f\"La edad del profesor es: {edad_encontrada}\")\n",
        "else:\n",
        "    print(\"No se encontró ningún año que desencripte la URL correctamente.\")\n",
        "\n",
        "    #no profe no me dio la mente para poder darle una solucuion :(\n"
      ],
      "metadata": {
        "colab": {
          "base_uri": "https://localhost:8080/"
        },
        "id": "d2hoWixEE7T5",
        "outputId": "425d9d9a-bb89-494c-a763-e3fdf30010a2"
      },
      "execution_count": null,
      "outputs": [
        {
          "output_type": "stream",
          "name": "stdout",
          "text": [
            "El año de nacimiento del profesor es: 1950\n",
            "La edad del profesor es: 74\n"
          ]
        }
      ]
    },
    {
      "cell_type": "code",
      "source": [],
      "metadata": {
        "id": "6yPjdJZWTEY7"
      },
      "execution_count": null,
      "outputs": []
    }
  ],
  "metadata": {
    "colab": {
      "provenance": []
    },
    "kernelspec": {
      "display_name": "Python 3",
      "name": "python3"
    },
    "language_info": {
      "codemirror_mode": {
        "name": "ipython",
        "version": 3
      },
      "file_extension": ".py",
      "mimetype": "text/x-python",
      "name": "python",
      "nbconvert_exporter": "python",
      "pygments_lexer": "ipython3",
      "version": "3.12.1"
    }
  },
  "nbformat": 4,
  "nbformat_minor": 0
}